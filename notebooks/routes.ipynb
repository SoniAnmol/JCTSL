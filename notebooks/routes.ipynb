{
 "cells": [
  {
   "cell_type": "code",
   "execution_count": 1,
   "metadata": {
    "collapsed": true
   },
   "outputs": [],
   "source": [
    "import pandas as pd"
   ]
  },
  {
   "cell_type": "code",
   "execution_count": 3,
   "outputs": [],
   "source": [
    "routes = pd.read_excel('../data/routes/jctsl_routes.xlsx')"
   ],
   "metadata": {
    "collapsed": false
   }
  },
  {
   "cell_type": "code",
   "execution_count": 9,
   "outputs": [
    {
     "data": {
      "text/plain": "0     [ Sanganer Police Station,  Durgapura,  Tonk F...\n1     [ Rambag,  Tonk phatak,  Gopalpura,  Gujar ki ...\n2     [ Sanganer Police Station,  Tonk Fatak,  Rambh...\n3     [ Jhotwara,  Choumu Pulia,  Panipej,  Railway ...\n4     [ Sanganer Police Station,  12 Meel,  Bilwa,  ...\n5     [ luniyawas , TP Nagar,  Ghatgate,  Ajmeri Gat...\n6     [ Khatipura,  Vaishali Nagar,  Sodala,  Rambag...\n7     [ Sodala,  Purani Chungi,  DCM,  Heerapura,  B...\n8     [Harmada,  Chomu Pulia,  Pittal Factory,  Chan...\n9     [ Heerapura (New T.P. Nagar),  Gaj Singh Pura,...\n10    [ Vijay Path,  Sipra Path,  Maharani Form,  Du...\n11    [ Choumu Pulia,  Panipej,  Railway Station,  C...\n12    [ Chomu pulia',  Khaitan,  Road no 14,  Rampur...\n13    [Tonk Fatak,  Durgapura,  Sanganer Thana,  muh...\n14    [ Gaj Singh Pura,  Kisan Dharm Kanta,  Gurjar ...\n15       [ panipech,  chomu puliya,  jhotwada,  Hathos]\n16    [ Ramdhar Mod,  Badi Chopar,  Sanganeri Gate, ...\n17    [ Chomu Pulia,  Amba Badi,  Pani Pej,  Pittal ...\n18    [ Sanganer Police Station,  Durgapura,  Tonk F...\n19    [ T.P. Nagar,  Jawahar Nagar Shanti Path,  Til...\n20    [ Chandpole,  Railway Station, Hasanpura , Kha...\n21    [ Sanganeri Gate, Ajmeri Gate, Gandhi Nagar Mo...\n22    [ Sobhash chok,  Ramgadh mode,  Nai ki thadi, ...\n23    [ mansrower, madhayam marg, gurjar ki tadi, go...\n24                     [ Durgapura ,  Sanganer,  Goner]\n25    [ Chomu pulia,  Vaishali,  DCM,  Bhakrota,  Jh...\n26    [ Jhotwada,  chomu pulia,  Collectry,  ajmerti...\n27    [ Transport nagar,  Ajmeri gate,  Sindhi camp,...\nName: route, dtype: object"
     },
     "execution_count": 9,
     "metadata": {},
     "output_type": "execute_result"
    }
   ],
   "source": [
    "routes.route.str.split(',')."
   ],
   "metadata": {
    "collapsed": false
   }
  },
  {
   "cell_type": "code",
   "execution_count": null,
   "outputs": [],
   "source": [],
   "metadata": {
    "collapsed": false
   }
  }
 ],
 "metadata": {
  "kernelspec": {
   "display_name": "Python 3",
   "language": "python",
   "name": "python3"
  },
  "language_info": {
   "codemirror_mode": {
    "name": "ipython",
    "version": 2
   },
   "file_extension": ".py",
   "mimetype": "text/x-python",
   "name": "python",
   "nbconvert_exporter": "python",
   "pygments_lexer": "ipython2",
   "version": "2.7.6"
  }
 },
 "nbformat": 4,
 "nbformat_minor": 0
}
